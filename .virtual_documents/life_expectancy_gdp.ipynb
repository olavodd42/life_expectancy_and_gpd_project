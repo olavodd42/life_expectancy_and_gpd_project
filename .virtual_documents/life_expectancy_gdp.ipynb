


import pandas as pd
import numpy as np
import matplotlib.pyplot as plt
import seaborn as sns
import statsmodels.api as sm
from scipy.stats import pearsonr
import plotly.express as px
import plotly.io as pio
import plotly.graph_objects as go

%matplotlib inline

sns.set(style='whitegrid', palette='pastel', context='talk')

#####################################################################################################################################################################################
###############################################     1. Data Cleaning and Pre-processing    ##########################################################################################
#####################################################################################################################################################################################

data = pd.read_csv('all_data.csv')
data.head()


data.info()


data.rename(columns={
    'Life expectancy at birth (years)': 'Life_expectancy'
    }, inplace=True)
data.columns


# Check for outliers in GDP and Life Expectancy
fig, axes = plt.subplots(1, 2, figsize=(12, 5))
sns.boxplot(y=data['GDP'], ax=axes[0])
axes[0].set_title('GDP Distribution')

sns.boxplot(y=data['Life_expectancy'], ax=axes[1])
axes[1].set_title('Life Expectancy Distribution')

plt.show()


# Heatmap for missing values
plt.figure(figsize=(8, 4))
sns.heatmap(data.isnull(), cmap='viridis', cbar=True, yticklabels=False)
plt.title('Missing Data Heatmap')
plt.show()



null_counts = data.isnull().sum()
print(null_counts)


# No cleaning needed
#####################################################################################################################################################################################
###############################################     2. Exploratory Data Analysis     #####3##########################################################################################
#####################################################################################################################################################################################
print("Descriptive Statistics:")
print(data.describe(include='all'))


# Plot time series for life expectancy and GDP for each country individually.
plt.figure(figsize=(20, 15))
sns.scatterplot(x='Year', y='Life_expectancy', data=data, hue='Country', palette='bright', alpha=.5)
plt.xlabel('Year')
plt.xticks(data.Year, rotation=30)
plt.ylabel('Life expectancy at birth')
plt.title('Year vs Life Expectancy by country')
plt.show()
plt.close()


plt.figure(figsize=(20, 15))

# Adicionando cores diferentes para cada país
for country in data.Country.unique():
    country_data = data[data["Country"] == country]
    plt.plot(country_data["Year"], country_data["Life_expectancy"], label=country)

plt.xlabel("Year")
plt.xticks(data.Year.unique(), rotation=30)
plt.ylabel("Life expectancy at birth")
plt.title("Year vs Life Expectancy by Country")
plt.legend()  # Exibir legenda para identificação das curvas
plt.show()
plt.close()





plt.figure(figsize=(20, 15))
sns.scatterplot(x='Year', y='GDP', data=data, hue='Country', palette='bright', alpha=.5)
plt.xlabel('Year')
plt.xticks(data.Year, rotation=30)
plt.ylabel('GDP ($)')
plt.title('Year vs GDP')
plt.show()
plt.close()


plt.figure(figsize=(20, 15))

for country in data.Country.unique():
    country_data = data[data["Country"] == country]
    plt.plot(country_data["Year"], country_data["GDP"], label=country)

plt.xlabel("Year")
plt.xticks(data.Year.unique(), rotation=30)
plt.ylabel("GDP($)")
plt.title("Year vs GDP")
plt.legend() 
plt.show()
plt.close()





# Develop aggregate visualizations for overall trends across all countries.
mean_life_expectancy_by_year = data.groupby('Year').Life_expectancy.mean()
mean_life_expectancy_by_year


plt.figure(figsize=(10, 8))
sns.scatterplot(x=mean_life_expectancy_by_year.index, y=mean_life_expectancy_by_year, color='red')
plt.plot(mean_life_expectancy_by_year.index, mean_life_expectancy_by_year, linewidth=.5, alpha=.8)
plt.xlabel('Year')
plt.xticks(data.Year, rotation=30)
plt.ylabel('Life expectancy')
plt.title('Year vs Life expectancy')
plt.show()
plt.close()


mean_gdp_by_year = data.groupby('Year').GDP.mean()
mean_gdp_by_year


plt.figure(figsize=(10, 8))
sns.scatterplot(x=mean_gdp_by_year.index, y=mean_gdp_by_year, color='red')
plt.plot(mean_gdp_by_year.index, mean_gdp_by_year, linewidth=.5, alpha=.8)
plt.xlabel('Year')
plt.xticks(data.Year, rotation=30)
plt.ylabel('GDP')
plt.title('Year vs GDP')
plt.show()
plt.close()





# Use scatter plots and compute correlation coefficients to explore the relationship between GDP and life expectancy.
plt.figure(figsize=(15, 10))
sns.scatterplot(x='GDP', y='Life_expectancy', hue='Country', data=data)
plt.xlabel('GDP ($)')
plt.ylabel('Life Expectancy at Birth (years)')
plt.title('GDP vs Life Expectancy at Birth')
plt.show()
plt.close()


for country in data.Country.unique():
    data_country = data[data.Country == country]
    corr,_ = pearsonr(data_country.GDP, data_country.Life_expectancy)
    print(f'Correlation coefficient for {country} is {corr:.2f}')


# Analyze potential lag effects: shift GDP values by one year per country
for country in data['Country'].unique():
    country_data = data[data['Country'] == country].sort_values(by='Year')
    country_data['Lag_GDP'] = country_data['GDP'].shift(1)
    plt.figure(figsize=(10,6))
    sns.scatterplot(x='Lag_GDP', y='Life_expectancy', data=country_data, palette='deep')
    plt.xlabel("GDP (Previous Year)")
    plt.ylabel("Life Expectancy at Birth")
    plt.title(f"Lag Effect Analysis for {country}")
    plt.show()
    plt.close()


#####################################################################################################################################################################################
###############################################     3. Advanced Visualizations & Comparative Analysis    ############################################################################
#####################################################################################################################################################################################

# Assign a unique numeric color to each country
country_colors = {country: idx for idx, country in enumerate(data["Country"].unique())}
data["Color"] = data["Country"].map(country_colors)  # Convert country names to numeric values

# Create a 3D scatter plot
fig = go.Figure(data=[go.Scatter3d(
    x=data['Year'],
    y=data['GDP'],
    z=data['Life_expectancy'],
    mode='markers',
    marker=dict(size=6, color=data['Color'], colorscale='Viridis', colorbar=dict(title="Country Index"))
)])

# Set layout
fig.update_layout(
    title="GDP vs. Life Expectancy among the years",
    scene=dict(xaxis_title='Year', yaxis_title='GDP ($)', zaxis_title='Life Expectancy at birth (Years)')
)

# Show plot
fig.show()



# Enable Plotly in Jupyter Notebook
pio.renderers.default = "plotly_mimetype"
max_data = data.groupby('Year').Life_expectancy.max()
min_data = data.groupby('Year').Life_expectancy.min()
mean_data = data.groupby('Year').Life_expectancy.mean()


fig_scatter = px.scatter(data, x='Year', y='Life_expectancy', color='Country', title="Life Expectancy Time Series")

# Add max markers (only first one shows in legend)
first = True
for year, exp in zip(max_data.index, max_data):
    fig_scatter.add_trace(go.Scatter(
        x=[year], y=[exp],
        mode='markers',
        marker=dict(color='black', size=5, symbol='star'),
        name="Max Point" if first else None,
        legendgroup="max",  # Groups all max markers under one legend item
        showlegend=first  # Only show legend for the first item
    ))
    first = False  # Disable legend for the rest

# Add min markers (only first one shows in legend)
first = True
for year, exp in zip(min_data.index, min_data):
    fig_scatter.add_trace(go.Scatter(
        x=[year], y=[exp],
        mode='markers',
        marker=dict(color='black', size=5, symbol='triangle-down'),
        name="Min Point" if first else None,
        legendgroup="min",  # Groups all min markers under one legend item
        showlegend=first  # Only show legend for the first item
    ))
    first = False  # Disable legend for the rest

# Add mean markers (only first one shows in legend)
first = True  # Reset for mean points
for year, exp in zip(mean_data.index, mean_data):
    fig_scatter.add_trace(go.Scatter(
        x=[year], y=[exp],
        mode='markers',
        marker=dict(color='black', size=5, symbol='x'),
        name="Mean Point" if first else None,
        legendgroup="mean",
        showlegend=first
    ))
    first = False

fig_scatter.show()



max_data = data.groupby('Year').GDP.max()
min_data = data.groupby('Year').GDP.min()
mean_data = data.groupby('Year').GDP.mean()



# Enable Plotly in Jupyter Notebook
fig_scatter = px.scatter(data, x='Year', y='GDP', color='Country', title="GDP Time Series")

# Add max markers (only first one shows in legend)
first = True
for year, gdp in zip(max_data.index, max_data):
    fig_scatter.add_trace(go.Scatter(
        x=[year], y=[gdp],
        mode='markers',
        marker=dict(color='black', size=5, symbol='star'),
        name="Max Point" if first else None,
        legendgroup="max",  # Groups all max markers under one legend item
        showlegend=first  # Only show legend for the first item
    ))
    first = False  # Disable legend for the rest

# Add min markers (only first one shows in legend)
first = True
for year, gdp in zip(min_data.index, min_data):
    fig_scatter.add_trace(go.Scatter(
        x=[year], y=[gdp],
        mode='markers',
        marker=dict(color='black', size=5, symbol='triangle-down'),
        name="Min Point" if first else None,
        legendgroup="min",  # Groups all min markers under one legend item
        showlegend=first  # Only show legend for the first item
    ))
    first = False  # Disable legend for the rest

# Add mean markers (only first one shows in legend)
first = True
for year, gdp in zip(mean_data.index, mean_data):
    fig_scatter.add_trace(go.Scatter(
        x=[year], y=[gdp],
        mode='markers',
        marker=dict(color='black', size=5, symbol='x'),
        name="Mean Point" if first else None,
        legendgroup="mean",  # Groups all min markers under one legend item
        showlegend=first  # Only show legend for the first item
    ))
    first = False  # Disable legend for the rest
    
fig_scatter.show()



# Enable Plotly in Jupyter Notebook
fig_scatter = px.scatter(data, x='GDP', y='Life_expectancy', color='Country', title="GDP vs Life Expectancy")
fig_scatter.show()


colors = sns.diverging_palette(150, 275, s=80, l=55, n=9, as_cmap=True)
numeric_data = data.select_dtypes(include=['number'])
numeric_data.drop('Color', axis=1, inplace=True)
# Create heatmap using the .corr method on df, set colormap to cmap
sns.heatmap(numeric_data.corr(), center=0, cmap=colors, robust=True)
plt.show()





#####################################################################################################################################################################################
###############################################     4. Statistical Analysis    ####################################################################################################
#####################################################################################################################################################################################

models = []

for country in data.Country.unique():
    data_country = data[data.Country == country]
    model = sm.OLS.from_formula('Life_expectancy ~ GDP', data=data_country).fit()
    print(model.params)
    models.append(model)


plt.figure(figsize=(15, 10))
sns.scatterplot(x='GDP', y='Life_expectancy', hue='Country', data=data)
for model, country in zip(models, data.Country.unique()):
    data_country = data[data.Country == country]
    plt.plot(data_country.GDP, model.predict(data_country.GDP), label=country)
plt.xlabel('GDP ($)')
plt.ylabel('Life Expectancy at Birth (years)')
plt.title('GDP vs Life Expectancy at Birth')
plt.legend()
plt.show()
plt.close()






