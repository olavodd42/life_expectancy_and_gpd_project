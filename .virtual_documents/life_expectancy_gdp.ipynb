import pandas as pd
import numpy as np
import matplotlib.pyplot as plt
import seaborn as sns
import statsmodels.api as sm

data = pd.read_csv('all_data.csv')
data.head()


data.describe(include='all')


data.dtypes



