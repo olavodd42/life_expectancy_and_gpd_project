


import pandas as pd
import numpy as np
import matplotlib.pyplot as plt
import seaborn as sns
import statsmodels.api as sm
%matplotlib inline

sns.set(style='whitegrid', palette='pastel', context='talk')

#####################################################################################################################################################################################
###############################################     1. Data Cleaning and Pre-processing    ##########################################################################################
#####################################################################################################################################################################################

data = pd.read_csv('all_data.csv')
data.head()


data.info()


null_counts = data.isnull().sum()
print(null_counts)


data.rename(columns={
    'Life expectancy at birth (years)': 'Life_expectancy'
    }, inplace=True)
data.columns


# No cleaning needed
#####################################################################################################################################################################################
###############################################     2. Exploratory Data Analysis     #####3##########################################################################################
#####################################################################################################################################################################################
data.describe(include='all')


# Plot time series for life expectancy and GDP for each country individually.
plt.figure(figsize=(20, 15))
sns.scatterplot(x='Year', y='Life_expectancy', data=data, hue='Country', palette='bright', alpha=.5)
plt.xlabel('Year')
plt.xticks(data.Year, rotation=30)
plt.ylabel('Life expectancy at birth')
plt.title('Year vs Life Expectancy by country')
plt.show()
plt.close()


plt.figure(figsize=(20, 15))

# Adicionando cores diferentes para cada país
for country in data.Country.unique():
    country_data = data[data["Country"] == country]
    plt.plot(country_data["Year"], country_data["Life_expectancy"], label=country)

plt.xlabel("Year")
plt.xticks(data.Year.unique(), rotation=30)
plt.ylabel("Life expectancy at birth")
plt.title("Year vs Life Expectancy by Country")
plt.legend()  # Exibir legenda para identificação das curvas
plt.show()
plt.close()





plt.figure(figsize=(20, 15))
sns.scatterplot(x='Year', y='GDP', data=data, hue='Country', palette='bright', alpha=.5)
plt.xlabel('Year')
plt.xticks(data.Year, rotation=30)
plt.ylabel('GDP ($)')
plt.title('Year vs GDP')
plt.show()
plt.close()


plt.figure(figsize=(20, 15))

for country in data.Country.unique():
    country_data = data[data["Country"] == country]
    plt.plot(country_data["Year"], country_data["GDP"], label=country)

plt.xlabel("Year")
plt.xticks(data.Year.unique(), rotation=30)
plt.ylabel("GDP($)")
plt.title("Year vs GDP")
plt.legend() 
plt.show()
plt.close()



